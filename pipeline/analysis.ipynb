{
 "cells": [
  {
   "cell_type": "markdown",
   "metadata": {},
   "source": [
    "# Museum Analysis\n",
    "\n",
    "This notebook connects to the museum database and conducts simple analysis of the data.\n",
    "\n",
    "## Imports"
   ]
  },
  {
   "cell_type": "code",
   "execution_count": 252,
   "metadata": {},
   "outputs": [],
   "source": [
    "from pipeline import get_connection, get_cursor"
   ]
  },
  {
   "cell_type": "markdown",
   "metadata": {},
   "source": [
    "## Setup"
   ]
  },
  {
   "cell_type": "code",
   "execution_count": 253,
   "metadata": {},
   "outputs": [],
   "source": [
    "conn = get_connection()\n",
    "cursor = get_cursor(conn)"
   ]
  },
  {
   "cell_type": "markdown",
   "metadata": {},
   "source": [
    "## Queries"
   ]
  },
  {
   "cell_type": "markdown",
   "metadata": {},
   "source": [
    "#### 1. What exhibition is most frequently visited?"
   ]
  },
  {
   "cell_type": "code",
   "execution_count": 254,
   "metadata": {},
   "outputs": [
    {
     "data": {
      "text/plain": [
       "[RealDictRow([('exhibition_name', 'Cetacean Sensations'),\n",
       "              ('total_interactions', 27376)])]"
      ]
     },
     "execution_count": 254,
     "metadata": {},
     "output_type": "execute_result"
    }
   ],
   "source": [
    "cursor.execute(\"\"\"\n",
    "               SELECT e.exhibition_name, COUNT(rei.request_interaction_id) + COUNT(rai.rating_interaction_id) AS total_interactions\n",
    "               FROM exhibition AS e \n",
    "               LEFT JOIN request_interaction AS rei ON e.exhibition_id = rei.exhibition_id\n",
    "               LEFT JOIN rating_interaction AS rai ON e.exhibition_id = rai.exhibition_id\n",
    "               GROUP BY e.exhibition_id\n",
    "               ORDER BY total_interactions DESC\n",
    "               LIMIT 1\"\"\")\n",
    "cursor.fetchall()"
   ]
  },
  {
   "cell_type": "markdown",
   "metadata": {},
   "source": [
    "#### 2. What hour of the day has the most ratings?"
   ]
  },
  {
   "cell_type": "code",
   "execution_count": 255,
   "metadata": {},
   "outputs": [
    {
     "data": {
      "text/plain": [
       "[RealDictRow([('hour', Decimal('10')), ('rating_count', 232)])]"
      ]
     },
     "execution_count": 255,
     "metadata": {},
     "output_type": "execute_result"
    }
   ],
   "source": [
    "cursor.execute(\"\"\"\n",
    "SELECT EXTRACT(HOUR FROM event_at) AS hour, COUNT(rai.rating_interaction_id) AS rating_count\n",
    "FROM rating_interaction as rai \n",
    "GROUP BY hour \n",
    "ORDER BY rating_count DESC \n",
    "LIMIT 1\"\"\")\n",
    "cursor.fetchall()"
   ]
  },
  {
   "cell_type": "markdown",
   "metadata": {},
   "source": [
    "#### 3. What exhibition has the most emergencies?"
   ]
  },
  {
   "cell_type": "code",
   "execution_count": 256,
   "metadata": {},
   "outputs": [
    {
     "data": {
      "text/plain": [
       "[RealDictRow([('exhibition_name', 'The Crenshaw Collection'),\n",
       "              ('emergency_count', 2)])]"
      ]
     },
     "execution_count": 256,
     "metadata": {},
     "output_type": "execute_result"
    }
   ],
   "source": [
    "cursor.execute(\"\"\"\n",
    "SELECT e.exhibition_name, COUNT(re.request_description) AS emergency_count \n",
    "FROM exhibition AS e\n",
    "LEFT JOIN request_interaction AS rei ON e.exhibition_id = rei.exhibition_id \n",
    "LEFT JOIN request AS re ON rei.request_id = re.request_id \n",
    "WHERE re.request_description = 'Emergency' \n",
    "GROUP BY e.exhibition_name \n",
    "ORDER BY emergency_count DESC\"\"\")\n",
    "cursor.fetchall()"
   ]
  },
  {
   "cell_type": "markdown",
   "metadata": {},
   "source": [
    "#### 4. What is the average rating for each exhibition?"
   ]
  },
  {
   "cell_type": "code",
   "execution_count": 257,
   "metadata": {},
   "outputs": [
    {
     "data": {
      "text/plain": [
       "[RealDictRow([('exhibition_name', 'Adaptation'),\n",
       "              ('average_rating', Decimal('1.93'))]),\n",
       " RealDictRow([('exhibition_name', 'Cetacean Sensations'),\n",
       "              ('average_rating', Decimal('2.83'))]),\n",
       " RealDictRow([('exhibition_name', 'Measureless to Man'),\n",
       "              ('average_rating', Decimal('1.92'))]),\n",
       " RealDictRow([('exhibition_name', 'Our Polluted World'),\n",
       "              ('average_rating', Decimal('1.22'))]),\n",
       " RealDictRow([('exhibition_name', 'The Crenshaw Collection'),\n",
       "              ('average_rating', Decimal('1.43'))]),\n",
       " RealDictRow([('exhibition_name', 'Thunder Lizards'),\n",
       "              ('average_rating', None)])]"
      ]
     },
     "execution_count": 257,
     "metadata": {},
     "output_type": "execute_result"
    }
   ],
   "source": [
    "cursor.execute(\"\"\"\n",
    "SELECT e.exhibition_name, ROUND(AVG(ra.rating_value), 2) AS average_rating\n",
    "FROM exhibition AS e\n",
    "LEFT JOIN rating_interaction AS rai ON e.exhibition_id = rai.exhibition_id \n",
    "LEFT JOIN rating AS ra ON rai.rating_id = ra.rating_id \n",
    "GROUP BY e.exhibition_name \n",
    "ORDER BY e.exhibition_name ASC\"\"\")\n",
    "cursor.fetchall()"
   ]
  },
  {
   "cell_type": "markdown",
   "metadata": {},
   "source": [
    "#### 5. Are positive ratings more frequent before or after 1pm?"
   ]
  },
  {
   "cell_type": "code",
   "execution_count": 258,
   "metadata": {},
   "outputs": [
    {
     "name": "stdout",
     "output_type": "stream",
     "text": [
      "No. of positive ratings before 1pm = 344\n",
      "No. of positive ratings after 1pm = 313\n",
      "There are 31 more positive reviews before 1pm.\n"
     ]
    }
   ],
   "source": [
    "def determine_greater_satisfaction(before, after):\n",
    "    if before>after:\n",
    "        return f\"There are {before-after} more positive reviews before 1pm.\"\n",
    "    if before<after:\n",
    "        return f\"There are {after-before} more positive reviews after 1pm.\"\n",
    "    return \"There are equally as many positive reviews before and after 1pm.\"\n",
    "\n",
    "# Before 1 pm\n",
    "\n",
    "cursor.execute(\"\"\"\n",
    "SELECT COUNT(rai.rating_id) AS positive_ratings_before_1pm \n",
    "FROM rating_interaction AS rai \n",
    "LEFT JOIN rating AS ra ON rai.rating_id = ra.rating_id \n",
    "WHERE ra.rating_value >= 3 AND EXTRACT(HOUR FROM rai.event_at) >= 13\"\"\")\n",
    "before = cursor.fetchall()\n",
    "\n",
    "# After 1 pm \n",
    "\n",
    "cursor.execute(\"\"\"\n",
    "SELECT COUNT(rai.rating_id) AS positive_ratings_after_1pm \n",
    "FROM rating_interaction AS rai \n",
    "LEFT JOIN rating AS ra ON rai.rating_id = ra.rating_id \n",
    "WHERE ra.rating_value >= 3 AND EXTRACT(HOUR FROM rai.event_at) < 13\"\"\")\n",
    "after = cursor.fetchall()\n",
    "\n",
    "print(f\"No. of positive ratings before 1pm = {before[0]['positive_ratings_before_1pm']}\")\n",
    "print(f\"No. of positive ratings after 1pm = {after[0]['positive_ratings_after_1pm']}\")\n",
    "print(determine_greater_satisfaction(\n",
    "    before[0]['positive_ratings_before_1pm'], after[0]['positive_ratings_after_1pm']))"
   ]
  },
  {
   "cell_type": "markdown",
   "metadata": {},
   "source": [
    "#### 6. Do Zoology exhibitions get better ratings than other types?"
   ]
  },
  {
   "cell_type": "code",
   "execution_count": 259,
   "metadata": {},
   "outputs": [
    {
     "name": "stdout",
     "output_type": "stream",
     "text": [
      "Zoology has an average rating of 2.20 for its exhibitions.\n",
      "Other departments have an average rating of 1.64 for their exhibitions.\n",
      "Zoology exhibitions have higher ratings compared to non-Zoology exhibitions.\n"
     ]
    }
   ],
   "source": [
    "def determine_greater_satisfaction(zoology, other):\n",
    "    if zoology > other:\n",
    "        return f\"Zoology exhibitions have higher ratings compared to non-Zoology exhibitions.\"\n",
    "    if zoology < other:\n",
    "        return f\"Non-Zoology exhibitions have higher ratings compared to Zoology exhibitions.\"\n",
    "    return \"There are equally as many positive reviews before and after 1pm.\"\n",
    "\n",
    "# ratings for Zoology exhibitions\n",
    "\n",
    "\n",
    "cursor.execute(\"\"\"\n",
    "SELECT ROUND(AVG(ra.rating_value), 2) AS average_rating \n",
    "FROM exhibition AS e \n",
    "LEFT JOIN department AS d ON e.department_id = d.department_id \n",
    "LEFT JOIN rating_interaction AS rai ON e.exhibition_id = rai.exhibition_id \n",
    "LEFT JOIN rating AS ra ON rai.rating_id = ra.rating_id \n",
    "WHERE d.department_name = 'Zoology'\"\"\")\n",
    "zoology =cursor.fetchall()\n",
    "\n",
    "\n",
    "# ratings for other exhibitions\n",
    "\n",
    "cursor.execute(\"\"\"\n",
    "SELECT ROUND(AVG(ra.rating_value), 2) AS average_rating \n",
    "FROM exhibition AS e \n",
    "LEFT JOIN department AS d ON e.department_id = d.department_id \n",
    "LEFT JOIN rating_interaction AS rai ON e.exhibition_id = rai.exhibition_id \n",
    "LEFT JOIN rating AS ra ON rai.rating_id = ra.rating_id \n",
    "WHERE d.department_name != 'Zoology'\"\"\")\n",
    "other = cursor.fetchall()\n",
    "\n",
    "print(f\"Zoology has an average rating of {zoology[0]['average_rating']} for its exhibitions.\")\n",
    "print(f\"Other departments have an average rating of {other[0]['average_rating']} for their exhibitions.\")\n",
    "print(determine_greater_satisfaction(\n",
    "    zoology[0]['average_rating'], other[0]['average_rating']))"
   ]
  }
 ],
 "metadata": {
  "kernelspec": {
   "display_name": ".venv",
   "language": "python",
   "name": "python3"
  },
  "language_info": {
   "codemirror_mode": {
    "name": "ipython",
    "version": 3
   },
   "file_extension": ".py",
   "mimetype": "text/x-python",
   "name": "python",
   "nbconvert_exporter": "python",
   "pygments_lexer": "ipython3",
   "version": "3.12.6"
  }
 },
 "nbformat": 4,
 "nbformat_minor": 2
}
